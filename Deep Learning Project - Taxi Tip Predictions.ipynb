{
 "cells": [
  {
   "cell_type": "markdown",
   "metadata": {},
   "source": [
    "# FNN Project: Predicting Taxi Driver Tips\n",
    "## David, Dongyue, and Sam \n",
    "\n",
    "By the time a taxicab has arrived at it's passengers' destination, the taxi's information system will have collected a varity of data reflecting ride characteristics. Pickup time, location, trip duration, number of passenegers, surcharges, tolls and more manifest in datasets containing the characteristics of the tens of millions of taxi rides taken each year by New Yorkers. These characteristics are, for the most part, known to drivers before they complete their trip; drivers can estimate trip duration and can predict any tolls they might face on the way. Most prediction has, importantly, attempted to analyse the effect of these various factors on taxi fare ammounts. Yet, fares fail to paint the full picture. Until the completion of a trip, taxi drivers remain uncertain about their trip earnings as they wait for tipped wages to factor in. \n",
    "\n",
    "Taxi drivers depend on tips for approximately 17% of their taxi based income. Since there is wide variation in tipping across types of trips and customres, there is reason to value predictions about tipped ammounts. Better predictions of tipped ammounts should enable taxi-drivers to better allocate their services and maximise revenue. If we choose to understand tipping as a factor of the consumer surplus implicit in a trip, then tipped ammounts might be an indicator of potential improvements to other fare models that do not include tips. Lastly, in the long term, models that predict tipping might serve as coal-mine canaries for a possible dying tipping culture."
   ]
  },
  {
   "cell_type": "markdown",
   "metadata": {},
   "source": [
    "# The Data\n",
    "\n",
    "We will use data from Google BigQuery about taxi trips taken by [NYC yellow cabs in 2016](https://console.cloud.google.com/bigquery?project=enduring-plate-219216&p=bigquery-public-data&d=new_york_taxi_trips&t=tlc_yellow_trips_2016&page=table).\n",
    "\n",
    "Since we are going to predict the tips for taxi drivers in our project, we will use tip_amount variable as our response variable. Then, we will use variables including fare_amount, pickup_datetime, pick_up location, dropoff_location, passenger_count, trip_distance, rate_code, extra, payment_type as our explanatory variable to predict the tip a taxi driver will receive for his trip.\n",
    "- `Fare_amount`: The fare amount variable is the fundemental for how much tip a driver will get because in many cases, the tip amount is calculated as a percentage of the fare amount.\n",
    "- `Pickup_datetime`: The pick date and time can be influencial to the tip amount passenger are willing to pay based on different time period in a week or in a day. In this case, we use CAST function to filter out weekday, day, and hour as identical variable and test their relationships with tip amount separetly.\n",
    "- `Pick_up location` & `Dropoff_location`: These variable include precise longtitude and latitude information for pickup and dropoff location. It will be interested to see if there is connections between location and tip amount.\n",
    "- `Trip_distance`: longer trip may have negative effect on the tip amount because longer trips means higher fare. However, this is something that we needs to prove.\n",
    "\n",
    "We also conditioned on several variables to ensure we had substantively meaninful observations.\n",
    "- `Rate_code`: We limit the rate code to \"1\", which represents the standard rate. We will only use the standard rate for our further analysis, since we are only interested in the large sample of tips from standard rides.\n",
    "- `Payment_type`: We set the payment type equals to \"1\" which indicates the card payment. The reason what just keep card payment is that the information of tips can be only found with card payments.\n",
    "\n"
   ]
  },
  {
   "cell_type": "code",
   "execution_count": 107,
   "metadata": {},
   "outputs": [],
   "source": [
    "import google.datalab.bigquery as bq\n",
    "import numpy as np\n",
    "import matplotlib\n",
    "from matplotlib import pyplot as plt\n",
    "import seaborn as sns"
   ]
  },
  {
   "cell_type": "code",
   "execution_count": 113,
   "metadata": {},
   "outputs": [
    {
     "data": {
      "text/html": [
       "\n",
       "    <div class=\"bqsv\" id=\"3_154414606988\"></div>\n",
       "    <script src=\"/static/components/requirejs/require.js\"></script>\n",
       "    <script>\n",
       "      require.config({\n",
       "        paths: {\n",
       "          base: '/static/base',\n",
       "        },\n",
       "        map: {\n",
       "          '*': {\n",
       "            datalab: 'nbextensions/gcpdatalab'\n",
       "          }\n",
       "        },\n",
       "      });\n",
       "\n",
       "      require(['datalab/bigquery', 'datalab/element!3_154414606988',\n",
       "          'datalab/style!/nbextensions/gcpdatalab/bigquery.css'],\n",
       "        function(bq, dom) {\n",
       "          bq.renderSchema(dom, [{\"description\": \"A code indicating the TPEP provider that provided the record. 1= Creative Mobile Technologies, LLC; 2= VeriFone Inc\", \"type\": \"STRING\", \"name\": \"vendor_id\", \"mode\": \"REQUIRED\"}, {\"description\": \"The date and time when the meter was engaged.\", \"type\": \"DATETIME\", \"name\": \"pickup_datetime\", \"mode\": \"NULLABLE\"}, {\"description\": \"The date and time when the meter was disengaged.\", \"type\": \"DATETIME\", \"name\": \"dropoff_datetime\", \"mode\": \"NULLABLE\"}, {\"description\": \"The number of passengers in the vehicle. This is a driver-entered value\", \"type\": \"INTEGER\", \"name\": \"passenger_count\", \"mode\": \"NULLABLE\"}, {\"description\": \"The elapsed trip distance in miles reported by the taximeter.\", \"type\": \"FLOAT\", \"name\": \"trip_distance\", \"mode\": \"NULLABLE\"}, {\"description\": \"Longitude where the meter was engaged.\", \"type\": \"FLOAT\", \"name\": \"pickup_longitude\", \"mode\": \"NULLABLE\"}, {\"description\": \"Latitude where the meter was engaged.\", \"type\": \"FLOAT\", \"name\": \"pickup_latitude\", \"mode\": \"NULLABLE\"}, {\"description\": \"The final rate code in effect at the end of the trip. 1= Standard rate 2=JFK 3=Newark 4=Nassau or Westchester 5=Negotiated fare 6=Group ride\", \"type\": \"INTEGER\", \"name\": \"rate_code\", \"mode\": \"NULLABLE\"}, {\"description\": \"This flag indicates whether the trip record was held in vehicle memory before sending to the vendor, aka \\u201cstore and forward,\\u201d because the vehicle did not have a connection to the server. Y= store and forward trip N= not a store and forward trip\", \"type\": \"STRING\", \"name\": \"store_and_fwd_flag\", \"mode\": \"NULLABLE\"}, {\"description\": \"Longitude where the meter was disengaged\", \"type\": \"FLOAT\", \"name\": \"dropoff_longitude\", \"mode\": \"NULLABLE\"}, {\"description\": \"Latitude where the meter was disengaged.\", \"type\": \"FLOAT\", \"name\": \"dropoff_latitude\", \"mode\": \"NULLABLE\"}, {\"description\": \"A numeric code signifying how the passenger paid for the trip. 1= Credit card 2= Cash 3= No charge 4= Dispute 5= Unknown 6= Voided trip\", \"type\": \"STRING\", \"name\": \"payment_type\", \"mode\": \"NULLABLE\"}, {\"description\": \"The time-and-distance fare calculated by the meter\", \"type\": \"FLOAT\", \"name\": \"fare_amount\", \"mode\": \"NULLABLE\"}, {\"description\": \"Miscellaneous extras and surcharges. Currently, this only includes the $0.50 and $1 rush hour and overnight charges.\", \"type\": \"FLOAT\", \"name\": \"extra\", \"mode\": \"NULLABLE\"}, {\"description\": \"$0.50 MTA tax that is automatically triggered based on the metered rate in use\", \"type\": \"FLOAT\", \"name\": \"mta_tax\", \"mode\": \"NULLABLE\"}, {\"description\": \"Tip amount \\u2013 This field is automatically populated for credit card tips. Cash tips are not included\", \"type\": \"FLOAT\", \"name\": \"tip_amount\", \"mode\": \"NULLABLE\"}, {\"description\": \"Total amount of all tolls paid in trip.\", \"type\": \"FLOAT\", \"name\": \"tolls_amount\", \"mode\": \"NULLABLE\"}, {\"description\": \"$0.30 improvement surcharge assessed trips at the flag drop. The improvement surcharge began being levied in 2015.\", \"type\": \"FLOAT\", \"name\": \"imp_surcharge\", \"mode\": \"NULLABLE\"}, {\"description\": \"The total amount charged to passengers. Does not include cash tips\", \"type\": \"FLOAT\", \"name\": \"total_amount\", \"mode\": \"NULLABLE\"}]);\n",
       "        }\n",
       "      );\n",
       "    </script>\n",
       "    "
      ],
      "text/plain": [
       "<IPython.core.display.HTML object>"
      ]
     },
     "execution_count": 113,
     "metadata": {},
     "output_type": "execute_result"
    }
   ],
   "source": [
    "%%bq tables describe\n",
    "name: bigquery-public-data.new_york_taxi_trips.tlc_yellow_trips_2016"
   ]
  },
  {
   "cell_type": "markdown",
   "metadata": {},
   "source": [
    "## Data Query and Sampling\n",
    "\n",
    "After we chose to explore these variables, we used the query below to retrieve the data. When selecting the variables of interest we extracted the weekday, day, and hour separately from the original timestamp `pickup_datetime`. We also casted these variables to strings so they can be used as categorical features. To try and ensure that all of our observations were substantively meaningful and represented real taxi rides, we also included several `WHERE` clauses in the query. We limited the fare_amount to be between 2 and 200 because observations with fares beyond those bounds seem more likely to be errors than actual taxi rides. We also excluded observations that had null values for the pickup and dropoff locations (longitude and latitude). Finally, we limited `payment_type` to credit cards (type 1). This was necessary because the data set only includes the tip amount for riders who paid with credit cards as cash tips are not recorded. This is an unfortunate limitation of our model as it will not be able to predict cash tips."
   ]
  },
  {
   "cell_type": "code",
   "execution_count": 114,
   "metadata": {},
   "outputs": [],
   "source": [
    "%%bq query --name taxi_query\n",
    "SELECT \n",
    "  fare_amount,\n",
    "  CAST(EXTRACT(DAYOFWEEK FROM pickup_datetime) AS STRING) as weekday,\n",
    "  CAST(EXTRACT(DAYOFYEAR FROM pickup_datetime) AS STRING) as day,\n",
    "  CAST(EXTRACT(HOUR FROM pickup_datetime) AS STRING) as hour,\n",
    "  pickup_latitude,\n",
    "  pickup_longitude,\n",
    "  dropoff_latitude,\n",
    "  dropoff_longitude,\n",
    "  passenger_count,\n",
    "  trip_distance,\n",
    "  rate_code, \n",
    "  extra,\n",
    "  payment_type,\n",
    "  tip_amount\n",
    "FROM `bigquery-public-data.new_york_taxi_trips.tlc_yellow_trips_2016`\n",
    "WHERE \n",
    "  fare_amount > 2.0 AND fare_amount < 200.0 AND\n",
    "  rate_code = 1 AND #only standard rates\n",
    "  payment_type = '1' AND #only select observations when passengers paid with credit cards \n",
    "  pickup_latitude IS NOT NULL AND\n",
    "  pickup_longitude IS NOT NULL AND\n",
    "  dropoff_latitude IS NOT NULL AND\n",
    "  dropoff_longitude IS NOT NULL"
   ]
  },
  {
   "cell_type": "markdown",
   "metadata": {},
   "source": [
    "Once we had our query, we sampled 0.3% of the data and casted it to a pandas dataframe. A 0.3% sample allowed us to have with over 100,000 cases in the training set and several thousand in the test set. Using a pandas dataframe allowed us to use the tools we have already learned to investigate and visualize our data."
   ]
  },
  {
   "cell_type": "code",
   "execution_count": 72,
   "metadata": {},
   "outputs": [],
   "source": [
    "# Sample 0.3% data, and split it into train/eval sets\n",
    "sampling = bq.Sampling.random(percent=0.3)\n",
    "job = taxi_query.execute(sampling=sampling)\n",
    "result=job.result()"
   ]
  },
  {
   "cell_type": "code",
   "execution_count": 73,
   "metadata": {},
   "outputs": [],
   "source": [
    "df = result.to_dataframe()"
   ]
  },
  {
   "cell_type": "markdown",
   "metadata": {},
   "source": [
    "After we created a dataframe from the query results, we sorted the data by `tip_amount` and printed out the five obersvations with the five highest tips."
   ]
  },
  {
   "cell_type": "code",
   "execution_count": 115,
   "metadata": {},
   "outputs": [
    {
     "data": {
      "text/html": [
       "<div>\n",
       "<style scoped>\n",
       "    .dataframe tbody tr th:only-of-type {\n",
       "        vertical-align: middle;\n",
       "    }\n",
       "\n",
       "    .dataframe tbody tr th {\n",
       "        vertical-align: top;\n",
       "    }\n",
       "\n",
       "    .dataframe thead th {\n",
       "        text-align: right;\n",
       "    }\n",
       "</style>\n",
       "<table border=\"1\" class=\"dataframe\">\n",
       "  <thead>\n",
       "    <tr style=\"text-align: right;\">\n",
       "      <th></th>\n",
       "      <th>fare_amount</th>\n",
       "      <th>weekday</th>\n",
       "      <th>day</th>\n",
       "      <th>hour</th>\n",
       "      <th>pickup_latitude</th>\n",
       "      <th>pickup_longitude</th>\n",
       "      <th>dropoff_latitude</th>\n",
       "      <th>dropoff_longitude</th>\n",
       "      <th>passenger_count</th>\n",
       "      <th>trip_distance</th>\n",
       "      <th>rate_code</th>\n",
       "      <th>extra</th>\n",
       "      <th>payment_type</th>\n",
       "      <th>tip_amount</th>\n",
       "    </tr>\n",
       "  </thead>\n",
       "  <tbody>\n",
       "    <tr>\n",
       "      <th>78558</th>\n",
       "      <td>14.0</td>\n",
       "      <td>5</td>\n",
       "      <td>154</td>\n",
       "      <td>16</td>\n",
       "      <td>40.737030</td>\n",
       "      <td>-73.988724</td>\n",
       "      <td>40.668369</td>\n",
       "      <td>-73.789383</td>\n",
       "      <td>2</td>\n",
       "      <td>0.03</td>\n",
       "      <td>1</td>\n",
       "      <td>1.0</td>\n",
       "      <td>1</td>\n",
       "      <td>280.0</td>\n",
       "    </tr>\n",
       "    <tr>\n",
       "      <th>54570</th>\n",
       "      <td>150.0</td>\n",
       "      <td>1</td>\n",
       "      <td>157</td>\n",
       "      <td>12</td>\n",
       "      <td>40.761539</td>\n",
       "      <td>-73.982742</td>\n",
       "      <td>40.668461</td>\n",
       "      <td>-73.789970</td>\n",
       "      <td>2</td>\n",
       "      <td>16.64</td>\n",
       "      <td>1</td>\n",
       "      <td>0.0</td>\n",
       "      <td>1</td>\n",
       "      <td>140.0</td>\n",
       "    </tr>\n",
       "    <tr>\n",
       "      <th>39860</th>\n",
       "      <td>2.5</td>\n",
       "      <td>3</td>\n",
       "      <td>82</td>\n",
       "      <td>10</td>\n",
       "      <td>0.000000</td>\n",
       "      <td>0.000000</td>\n",
       "      <td>40.815289</td>\n",
       "      <td>-74.359108</td>\n",
       "      <td>2</td>\n",
       "      <td>0.00</td>\n",
       "      <td>1</td>\n",
       "      <td>0.0</td>\n",
       "      <td>1</td>\n",
       "      <td>112.0</td>\n",
       "    </tr>\n",
       "    <tr>\n",
       "      <th>78914</th>\n",
       "      <td>55.0</td>\n",
       "      <td>4</td>\n",
       "      <td>167</td>\n",
       "      <td>16</td>\n",
       "      <td>40.768776</td>\n",
       "      <td>-73.862892</td>\n",
       "      <td>40.757366</td>\n",
       "      <td>-73.983337</td>\n",
       "      <td>4</td>\n",
       "      <td>11.71</td>\n",
       "      <td>1</td>\n",
       "      <td>1.0</td>\n",
       "      <td>1</td>\n",
       "      <td>70.0</td>\n",
       "    </tr>\n",
       "    <tr>\n",
       "      <th>1094</th>\n",
       "      <td>2.5</td>\n",
       "      <td>1</td>\n",
       "      <td>45</td>\n",
       "      <td>0</td>\n",
       "      <td>40.769878</td>\n",
       "      <td>-73.994217</td>\n",
       "      <td>40.770462</td>\n",
       "      <td>-73.994339</td>\n",
       "      <td>1</td>\n",
       "      <td>0.10</td>\n",
       "      <td>1</td>\n",
       "      <td>0.5</td>\n",
       "      <td>1</td>\n",
       "      <td>65.0</td>\n",
       "    </tr>\n",
       "    <tr>\n",
       "      <th>262</th>\n",
       "      <td>7.5</td>\n",
       "      <td>3</td>\n",
       "      <td>12</td>\n",
       "      <td>0</td>\n",
       "      <td>40.748409</td>\n",
       "      <td>-73.987701</td>\n",
       "      <td>40.756748</td>\n",
       "      <td>-73.974579</td>\n",
       "      <td>1</td>\n",
       "      <td>1.50</td>\n",
       "      <td>1</td>\n",
       "      <td>0.5</td>\n",
       "      <td>1</td>\n",
       "      <td>55.0</td>\n",
       "    </tr>\n",
       "    <tr>\n",
       "      <th>78104</th>\n",
       "      <td>66.0</td>\n",
       "      <td>2</td>\n",
       "      <td>137</td>\n",
       "      <td>16</td>\n",
       "      <td>40.773994</td>\n",
       "      <td>-73.873528</td>\n",
       "      <td>40.724018</td>\n",
       "      <td>-73.588112</td>\n",
       "      <td>1</td>\n",
       "      <td>22.85</td>\n",
       "      <td>1</td>\n",
       "      <td>1.0</td>\n",
       "      <td>1</td>\n",
       "      <td>55.0</td>\n",
       "    </tr>\n",
       "    <tr>\n",
       "      <th>54964</th>\n",
       "      <td>56.0</td>\n",
       "      <td>7</td>\n",
       "      <td>170</td>\n",
       "      <td>12</td>\n",
       "      <td>40.750828</td>\n",
       "      <td>-73.975403</td>\n",
       "      <td>40.687927</td>\n",
       "      <td>-74.183113</td>\n",
       "      <td>1</td>\n",
       "      <td>17.50</td>\n",
       "      <td>1</td>\n",
       "      <td>0.0</td>\n",
       "      <td>1</td>\n",
       "      <td>54.0</td>\n",
       "    </tr>\n",
       "    <tr>\n",
       "      <th>101759</th>\n",
       "      <td>2.5</td>\n",
       "      <td>5</td>\n",
       "      <td>147</td>\n",
       "      <td>19</td>\n",
       "      <td>0.000000</td>\n",
       "      <td>0.000000</td>\n",
       "      <td>0.000000</td>\n",
       "      <td>0.000000</td>\n",
       "      <td>1</td>\n",
       "      <td>0.00</td>\n",
       "      <td>1</td>\n",
       "      <td>1.0</td>\n",
       "      <td>1</td>\n",
       "      <td>50.0</td>\n",
       "    </tr>\n",
       "    <tr>\n",
       "      <th>7047</th>\n",
       "      <td>43.0</td>\n",
       "      <td>4</td>\n",
       "      <td>104</td>\n",
       "      <td>1</td>\n",
       "      <td>40.750343</td>\n",
       "      <td>-73.982529</td>\n",
       "      <td>40.622116</td>\n",
       "      <td>-74.031616</td>\n",
       "      <td>1</td>\n",
       "      <td>13.90</td>\n",
       "      <td>1</td>\n",
       "      <td>0.5</td>\n",
       "      <td>1</td>\n",
       "      <td>50.0</td>\n",
       "    </tr>\n",
       "  </tbody>\n",
       "</table>\n",
       "</div>"
      ],
      "text/plain": [
       "        fare_amount weekday  day hour  pickup_latitude  pickup_longitude  \\\n",
       "78558          14.0       5  154   16        40.737030        -73.988724   \n",
       "54570         150.0       1  157   12        40.761539        -73.982742   \n",
       "39860           2.5       3   82   10         0.000000          0.000000   \n",
       "78914          55.0       4  167   16        40.768776        -73.862892   \n",
       "1094            2.5       1   45    0        40.769878        -73.994217   \n",
       "262             7.5       3   12    0        40.748409        -73.987701   \n",
       "78104          66.0       2  137   16        40.773994        -73.873528   \n",
       "54964          56.0       7  170   12        40.750828        -73.975403   \n",
       "101759          2.5       5  147   19         0.000000          0.000000   \n",
       "7047           43.0       4  104    1        40.750343        -73.982529   \n",
       "\n",
       "        dropoff_latitude  dropoff_longitude  passenger_count  trip_distance  \\\n",
       "78558          40.668369         -73.789383                2           0.03   \n",
       "54570          40.668461         -73.789970                2          16.64   \n",
       "39860          40.815289         -74.359108                2           0.00   \n",
       "78914          40.757366         -73.983337                4          11.71   \n",
       "1094           40.770462         -73.994339                1           0.10   \n",
       "262            40.756748         -73.974579                1           1.50   \n",
       "78104          40.724018         -73.588112                1          22.85   \n",
       "54964          40.687927         -74.183113                1          17.50   \n",
       "101759          0.000000           0.000000                1           0.00   \n",
       "7047           40.622116         -74.031616                1          13.90   \n",
       "\n",
       "        rate_code  extra payment_type  tip_amount  \n",
       "78558           1    1.0            1       280.0  \n",
       "54570           1    0.0            1       140.0  \n",
       "39860           1    0.0            1       112.0  \n",
       "78914           1    1.0            1        70.0  \n",
       "1094            1    0.5            1        65.0  \n",
       "262             1    0.5            1        55.0  \n",
       "78104           1    1.0            1        55.0  \n",
       "54964           1    0.0            1        54.0  \n",
       "101759          1    1.0            1        50.0  \n",
       "7047            1    0.5            1        50.0  "
      ]
     },
     "execution_count": 115,
     "metadata": {},
     "output_type": "execute_result"
    }
   ],
   "source": [
    "df.sort_values(by=\"tip_amount\", ascending=False).head(10)"
   ]
  },
  {
   "cell_type": "markdown",
   "metadata": {},
   "source": [
    "We then started examining the distribution of `tip_amount` by using the seabon package to create a density plot. The data is obviously extremely right skewed, with most observations clustered where tips are under $10."
   ]
  },
  {
   "cell_type": "code",
   "execution_count": 147,
   "metadata": {},
   "outputs": [
    {
     "data": {
      "text/plain": [
       "<matplotlib.axes._subplots.AxesSubplot at 0x7fa7e3216290>"
      ]
     },
     "execution_count": 147,
     "metadata": {},
     "output_type": "execute_result"
    },
    {
     "data": {
      "image/png": "[encoded data removed]",
      "text/plain": [
       "<matplotlib.figure.Figure at 0x7fa7e35d8710>"
      ]
     },
     "metadata": {},
     "output_type": "display_data"
    }
   ],
   "source": [
    "sns.kdeplot(df.tip_amount)"
   ]
  },
  {
   "cell_type": "markdown",
   "metadata": {},
   "source": [
    "We then clipped the x-axis to examine those observations with tips under $\\$$10. \n",
    "The data is still largely right-skewed, with two peaks at $\\$$1 and $\\$$2."
   ]
  },
  {
   "cell_type": "code",
   "execution_count": 117,
   "metadata": {},
   "outputs": [
    {
     "data": {
      "text/plain": [
       "<matplotlib.axes._subplots.AxesSubplot at 0x7fa7c6253410>"
      ]
     },
     "execution_count": 117,
     "metadata": {},
     "output_type": "execute_result"
    },
    {
     "data": {
      "image/png": "[encoded data removed]",
      "text/plain": [
       "<matplotlib.figure.Figure at 0x7fa7c626ff10>"
      ]
     },
     "metadata": {},
     "output_type": "display_data"
    }
   ],
   "source": [
    "sns.kdeplot(df.tip_amount, clip=(0,10))"
   ]
  },
  {
   "cell_type": "code",
   "execution_count": 166,
   "metadata": {},
   "outputs": [],
   "source": [
    "#ax = df.groupby('passenger_count').tip_amount.mean().plot.barh()\n",
    "#ax.set_xlabel('Average Tip Amount')\n",
    "#ax.set_ylabel('Number of Passengers')"
   ]
  },
  {
   "cell_type": "code",
   "execution_count": 78,
   "metadata": {},
   "outputs": [],
   "source": [
    "#plt.subplots(figsize=(18,14))\n",
    "#sns.boxplot(x=\"payment_type\", y=\"tip_amount\", data=df)\n",
    "#plt.boxplot(df.tip_amount)"
   ]
  },
  {
   "cell_type": "markdown",
   "metadata": {},
   "source": [
    "We also wanted to examine how some of our features mapped onto the tip amount. One feature we thought would be strongly associated with how much people tip was the length of the trip. To examine this we used the `sns.lmplot` function to examine the relationship between `tip_amount` and `trip_distance`."
   ]
  },
  {
   "cell_type": "code",
   "execution_count": 119,
   "metadata": {},
   "outputs": [
    {
     "data": {
      "text/plain": [
       "<seaborn.axisgrid.FacetGrid at 0x7fa7d3cb3290>"
      ]
     },
     "execution_count": 119,
     "metadata": {},
     "output_type": "execute_result"
    },
    {
     "data": {
      "image/png": "[encoded data removed]",
      "text/plain": [
       "<matplotlib.figure.Figure at 0x7fa7d3cb3050>"
      ]
     },
     "metadata": {},
     "output_type": "display_data"
    }
   ],
   "source": [
    "sns.lmplot(\"trip_distance\", \"tip_amount\", data=df)"
   ]
  },
  {
   "cell_type": "code",
   "execution_count": 121,
   "metadata": {},
   "outputs": [],
   "source": [
    "msk = np.random.rand(len(df)) < 0.95\n",
    "train_df = df[msk]\n",
    "eval_df = df[~msk]"
   ]
  },
  {
   "cell_type": "code",
   "execution_count": 122,
   "metadata": {},
   "outputs": [
    {
     "name": "stdout",
     "output_type": "stream",
     "text": [
      "Training set includes 127646 instances.\n",
      "Eval set includes 6834 instances.\n"
     ]
    }
   ],
   "source": [
    "print('Training set includes %d instances.' % len(train_df))\n",
    "print('Eval set includes %d instances.' % len(eval_df))"
   ]
  },
  {
   "cell_type": "markdown",
   "metadata": {},
   "source": [
    "## Save Data\n",
    "\n",
    "After splitting the data into train and eval sets, we saved both sets of the data for model training."
   ]
  },
  {
   "cell_type": "code",
   "execution_count": 124,
   "metadata": {},
   "outputs": [],
   "source": [
    "!mkdir -p ./taxitip"
   ]
  },
  {
   "cell_type": "code",
   "execution_count": 123,
   "metadata": {},
   "outputs": [],
   "source": [
    "train_df.to_csv('./taxitip/train.csv', header=False, index=False)\n",
    "eval_df.to_csv('./taxitip/eval.csv', header=False, index=False)"
   ]
  },
  {
   "cell_type": "markdown",
   "metadata": {},
   "source": [
    "## Creating a Model\n",
    "\n",
    "Prior to creating our predictions, we created a scema for the various variables of interest. We defined the appropriate category type for each variable while creating the dataset and then set transform to scale, one-hot, identity, or target for the analyze command. We then created a DNN regression model using 200 hidden layers. We used a large number of layers in order to account for the large number of features we were using to predict the target, (`tip_amount`)."
   ]
  },
  {
   "cell_type": "code",
   "execution_count": 112,
   "metadata": {},
   "outputs": [],
   "source": [
    "# This loads %%ml commands\n",
    "import google.datalab.contrib.mlworkbench.commands"
   ]
  },
  {
   "cell_type": "code",
   "execution_count": 86,
   "metadata": {},
   "outputs": [],
   "source": [
    "ml dataset create\n",
    "format: csv\n",
    "train: ./taxitip/train.csv\n",
    "eval: ./taxitip/eval.csv\n",
    "name: taxitip_data\n",
    "schema:\n",
    "    - name: tip_amount\n",
    "      type: FLOAT\n",
    "    - name: fare_amount\n",
    "      type: FLOAT\n",
    "    - name: weekday\n",
    "      type: STRING\n",
    "    - name: day\n",
    "      type: STRING\n",
    "    - name: hour\n",
    "      type: STRING\n",
    "    - name: pickup_latitude\n",
    "      type: FLOAT\n",
    "    - name: pickup_longitude\n",
    "      type: FLOAT\n",
    "    - name: dropoff_latitude\n",
    "      type: FLOAT\n",
    "    - name: dropoff_longitude\n",
    "      type: FLOAT\n",
    "    - name: passenger_count \n",
    "      type: FLOAT\n",
    "    - name: trip_distance \n",
    "      type: FLOAT               \n",
    "    - name: rate_code \n",
    "      type: STRING\n",
    "    - name: extra \n",
    "      type: FLOAT               \n",
    "    - name: payment_type\n",
    "      type: STRING  "
   ]
  },
  {
   "cell_type": "code",
   "execution_count": 126,
   "metadata": {},
   "outputs": [
    {
     "name": "stdout",
     "output_type": "stream",
     "text": [
      "train data instances: 127646\n",
      "eval data instances: 6834\n",
      "Sampled 1000 instances for each.\n"
     ]
    },
    {
     "data": {
      "text/html": [
       "<link rel=\"import\" href=\"/nbextensions/gcpdatalab/extern/facets-jupyter.html\" >\n",
       "        <facets-overview id=\"f4_154414618220\"></facets-overview>\n",
       "        <script>\n",
       "          document.querySelector(\"#f4_154414618220\").protoInput = \"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\";\n",
       "        </script>"
      ],
      "text/plain": [
       "<IPython.core.display.HTML object>"
      ]
     },
     "metadata": {},
     "output_type": "display_data"
    }
   ],
   "source": [
    "%%ml dataset explore --overview\n",
    "name: taxitip_data"
   ]
  },
  {
   "cell_type": "markdown",
   "metadata": {},
   "source": [
    "# Feature Design\n",
    "\n",
    "This final model has a large number of features. Throughout this project we developed several specifications of the model. Originally, we were hoping to develop a more parsimonious model that relied on fewer features. However, when we trained these models they did not perform well. The mean squared error and 90 percentile absolute error (see below) skyrocketed and the individual predictions they produce were substantively ridiculus (e.g. a predicted `tip_amount` of -200 dollars).  In order to have a model that worked well overall (had low error), we used all of the features in our analysis and training."
   ]
  },
  {
   "cell_type": "code",
   "execution_count": 125,
   "metadata": {},
   "outputs": [],
   "source": [
    "# Delete previous run results.\n",
    "!rm -r -f ./taxitip/analysis "
   ]
  },
  {
   "cell_type": "code",
   "execution_count": 89,
   "metadata": {},
   "outputs": [
    {
     "name": "stdout",
     "output_type": "stream",
     "text": [
      "/usr/local/envs/py2env/lib/python2.7/site-packages/h5py/__init__.py:36: FutureWarning: Conversion of the second argument of issubdtype from `float` to `np.floating` is deprecated. In future, it will be treated as `np.float64 == np.dtype(float).type`.\n",
      "  from ._conv import register_converters as _register_converters\n",
      "Expanding any file patterns...\n",
      "file list computed.\n",
      "Analyzing file /content/datalab/docs/samples/contrib/mlworkbench/structured_data_regression_taxi/taxitip/train.csv...\n",
      "file /content/datalab/docs/samples/contrib/mlworkbench/structured_data_regression_taxi/taxitip/train.csv analyzed.\n"
     ]
    }
   ],
   "source": [
    "%%ml analyze --output ./taxitip/analysis \n",
    "data: $taxitip_data\n",
    "features:\n",
    "  tip_amount:\n",
    "    transform: target \n",
    "  fare_amount:\n",
    "    transform: identity \n",
    "  weekday:\n",
    "    transform: one_hot\n",
    "  day:\n",
    "    transform: one_hot\n",
    "  hour:\n",
    "    transform: one_hot\n",
    "  pickup_latitude:\n",
    "    transform: scale    \n",
    "  pickup_longitude:\n",
    "    transform: scale\n",
    "  dropoff_latitude:\n",
    "    transform: scale\n",
    "  dropoff_longitude:\n",
    "    transform: scale\n",
    "  passenger_count:\n",
    "    transform: identity\n",
    "  trip_distance:\n",
    "    transform: identity\n",
    "  rate_code:\n",
    "    transform: one_hot\n",
    "  extra:\n",
    "    transform: identity\n",
    "  payment_type:\n",
    "    transform: one_hot"
   ]
  },
  {
   "cell_type": "code",
   "execution_count": 1,
   "metadata": {},
   "outputs": [],
   "source": [
    "# Delete previous run results.\n",
    "!rm -r -f ./taxitip/train "
   ]
  },
  {
   "cell_type": "markdown",
   "metadata": {},
   "source": [
    "### DNN Regression Model"
   ]
  },
  {
   "cell_type": "code",
   "execution_count": null,
   "metadata": {},
   "outputs": [
    {
     "data": {
      "text/html": [
       "<p>TensorBoard was started successfully with pid 12451. Click <a href=\"/_proxy/34191/\" target=\"_blank\">here</a> to access it.</p>"
      ]
     },
     "metadata": {},
     "output_type": "display_data"
    },
    {
     "name": "stdout",
     "output_type": "stream",
     "text": [
      "/usr/local/envs/py2env/lib/python2.7/site-packages/h5py/__init__.py:36: FutureWarning: Conversion of the second argument of issubdtype from `float` to `np.floating` is deprecated. In future, it will be treated as `np.float64 == np.dtype(float).type`.\n",
      "  from ._conv import register_converters as _register_converters\n"
     ]
    }
   ],
   "source": [
    "%%ml train\n",
    "output: ./taxitip/train\n",
    "analysis: ./taxitip/analysis\n",
    "data: taxitip_data\n",
    "model_args:\n",
    "    model: dnn_regression\n",
    "    hidden-layer-size1: 200"
   ]
  },
  {
   "cell_type": "code",
   "execution_count": 111,
   "metadata": {},
   "outputs": [
    {
     "data": {
      "image/png": "[encoded data removed]",
      "text/plain": [
       "<matplotlib.figure.Figure at 0x7fa7c6353e50>"
      ]
     },
     "metadata": {},
     "output_type": "display_data"
    }
   ],
   "source": [
    "from google.datalab.ml import Summary\n",
    "summary = Summary('./taxitip/train')\n",
    "summary.plot('loss')"
   ]
  },
  {
   "cell_type": "markdown",
   "metadata": {},
   "source": [
    "## Batch prediction"
   ]
  },
  {
   "cell_type": "code",
   "execution_count": 127,
   "metadata": {},
   "outputs": [],
   "source": [
    "!rm -r -f ./taxitip/batch_predict # Delete previous results."
   ]
  },
  {
   "cell_type": "code",
   "execution_count": 175,
   "metadata": {},
   "outputs": [
    {
     "name": "stdout",
     "output_type": "stream",
     "text": [
      "evaluation_model  model  schema_without_target.json  train\r\n"
     ]
    }
   ],
   "source": [
    "!ls ./taxitip/train/"
   ]
  },
  {
   "cell_type": "code",
   "execution_count": 110,
   "metadata": {},
   "outputs": [
    {
     "name": "stdout",
     "output_type": "stream",
     "text": [
      "local prediction...\n",
      "INFO:tensorflow:Restoring parameters from ./taxitip/train/evaluation_model/variables/variables\n",
      "done.\n"
     ]
    }
   ],
   "source": [
    "%%ml batch_predict\n",
    "model: ./taxitip/train/evaluation_model/\n",
    "output: ./taxitip/batch_predict\n",
    "format: csv\n",
    "data:\n",
    "  csv: ./taxitip/eval.csv    "
   ]
  },
  {
   "cell_type": "code",
   "execution_count": 176,
   "metadata": {},
   "outputs": [
    {
     "name": "stdout",
     "output_type": "stream",
     "text": [
      "predict_results_eval.csv  predict_results_schema.json\r\n"
     ]
    }
   ],
   "source": [
    "!ls ./taxitip/batch_predict"
   ]
  },
  {
   "cell_type": "code",
   "execution_count": 108,
   "metadata": {},
   "outputs": [
    {
     "data": {
      "text/html": [
       "<div>\n",
       "<style scoped>\n",
       "    .dataframe tbody tr th:only-of-type {\n",
       "        vertical-align: middle;\n",
       "    }\n",
       "\n",
       "    .dataframe tbody tr th {\n",
       "        vertical-align: top;\n",
       "    }\n",
       "\n",
       "    .dataframe thead th {\n",
       "        text-align: right;\n",
       "    }\n",
       "</style>\n",
       "<table border=\"1\" class=\"dataframe\">\n",
       "  <thead>\n",
       "    <tr style=\"text-align: right;\">\n",
       "      <th></th>\n",
       "      <th>metric</th>\n",
       "      <th>value</th>\n",
       "    </tr>\n",
       "  </thead>\n",
       "  <tbody>\n",
       "    <tr>\n",
       "      <th>0</th>\n",
       "      <td>Root Mean Square Error</td>\n",
       "      <td>1.908909</td>\n",
       "    </tr>\n",
       "    <tr>\n",
       "      <th>1</th>\n",
       "      <td>Mean Absolute Error</td>\n",
       "      <td>1.220663</td>\n",
       "    </tr>\n",
       "    <tr>\n",
       "      <th>2</th>\n",
       "      <td>50 Percentile Absolute Error</td>\n",
       "      <td>0.756683</td>\n",
       "    </tr>\n",
       "    <tr>\n",
       "      <th>3</th>\n",
       "      <td>90 Percentile Absolute Error</td>\n",
       "      <td>2.829838</td>\n",
       "    </tr>\n",
       "    <tr>\n",
       "      <th>4</th>\n",
       "      <td>99 Percentile Absolute Error</td>\n",
       "      <td>6.993448</td>\n",
       "    </tr>\n",
       "  </tbody>\n",
       "</table>\n",
       "</div>"
      ],
      "text/plain": [
       "                         metric     value\n",
       "0        Root Mean Square Error  1.908909\n",
       "1           Mean Absolute Error  1.220663\n",
       "2  50 Percentile Absolute Error  0.756683\n",
       "3  90 Percentile Absolute Error  2.829838\n",
       "4  99 Percentile Absolute Error  6.993448"
      ]
     },
     "execution_count": 108,
     "metadata": {},
     "output_type": "execute_result"
    }
   ],
   "source": [
    "%%ml evaluate regression\n",
    "csv: ./taxitip/batch_predict/predict_results_eval.csv"
   ]
  },
  {
   "cell_type": "code",
   "execution_count": 165,
   "metadata": {},
   "outputs": [],
   "source": [
    "%%ml evaluate accuracy\n",
    "csv: ./taxitip/batch_predict/predict_results_eval.csv"
   ]
  },
  {
   "cell_type": "markdown",
   "metadata": {},
   "source": [
    "Based on the metrics produced when we evaluated the regression, our model seems to be pretty good at predicting the amount a passenger will tip their taxi driver. In particular, the 90 Percentile Absolute Error is pretty low at 2.82. This seems to be a substantively meaningful metric because it represents the error in 9 out of 10 cases. To a cab driver, predicting how big of a tip they will receive 9 out of every 10 times they took a given trip within less than $\\$$3 would be a really helpful model."
   ]
  },
  {
   "cell_type": "markdown",
   "metadata": {},
   "source": [
    "## Prediction\n",
    "\n",
    "Now we use the non-evaluation model (./taxitip/train/model) which does not take the target column as an input. First, we took the prediction data from the eval csv file. Using these datapoints without the target column (`tip_amount`). "
   ]
  },
  {
   "cell_type": "code",
   "execution_count": 152,
   "metadata": {},
   "outputs": [
    {
     "data": {
      "text/html": [
       "<table border=\"1\" class=\"dataframe\">\n",
       "  <thead>\n",
       "    <tr style=\"text-align: right;\">\n",
       "      <th>predicted</th>\n",
       "      <th>day</th>\n",
       "      <th>dropoff_latitude</th>\n",
       "      <th>dropoff_longitude</th>\n",
       "      <th>extra</th>\n",
       "      <th>fare_amount</th>\n",
       "      <th>hour</th>\n",
       "      <th>passenger_count</th>\n",
       "      <th>payment_type</th>\n",
       "      <th>pickup_latitude</th>\n",
       "      <th>pickup_longitude</th>\n",
       "      <th>rate_code</th>\n",
       "      <th>trip_distance</th>\n",
       "      <th>weekday</th>\n",
       "    </tr>\n",
       "  </thead>\n",
       "  <tbody>\n",
       "    <tr>\n",
       "      <td>14.013005</td>\n",
       "      <td>59</td>\n",
       "      <td>40.66524887084961</td>\n",
       "      <td>-73.95893096923828</td>\n",
       "      <td>0.5</td>\n",
       "      <td>33.0</td>\n",
       "      <td>0</td>\n",
       "      <td>1</td>\n",
       "      <td>1</td>\n",
       "      <td>40.75135040283203</td>\n",
       "      <td>-73.9943618774414</td>\n",
       "      <td>1</td>\n",
       "      <td>8.05</td>\n",
       "      <td>1</td>\n",
       "    </tr>\n",
       "    <tr>\n",
       "      <td>11.005036</td>\n",
       "      <td>59</td>\n",
       "      <td>40.76605987548828</td>\n",
       "      <td>-73.96961212158203</td>\n",
       "      <td>0.5</td>\n",
       "      <td>8.5</td>\n",
       "      <td>0</td>\n",
       "      <td>1</td>\n",
       "      <td>1</td>\n",
       "      <td>40.740299224853516</td>\n",
       "      <td>-73.9857177734375</td>\n",
       "      <td>1</td>\n",
       "      <td>2.1</td>\n",
       "      <td>1</td>\n",
       "    </tr>\n",
       "    <tr>\n",
       "      <td>12.743536</td>\n",
       "      <td>59</td>\n",
       "      <td>40.73012161254883</td>\n",
       "      <td>-73.99850463867188</td>\n",
       "      <td>0.5</td>\n",
       "      <td>26.0</td>\n",
       "      <td>0</td>\n",
       "      <td>1</td>\n",
       "      <td>1</td>\n",
       "      <td>40.79415512084961</td>\n",
       "      <td>-73.96676635742188</td>\n",
       "      <td>1</td>\n",
       "      <td>6.9</td>\n",
       "      <td>1</td>\n",
       "    </tr>\n",
       "    <tr>\n",
       "      <td>15.019936</td>\n",
       "      <td>59</td>\n",
       "      <td>40.67359924316406</td>\n",
       "      <td>-73.95841979980469</td>\n",
       "      <td>0.5</td>\n",
       "      <td>32.5</td>\n",
       "      <td>0</td>\n",
       "      <td>1</td>\n",
       "      <td>1</td>\n",
       "      <td>40.76390075683594</td>\n",
       "      <td>-73.98169708251953</td>\n",
       "      <td>1</td>\n",
       "      <td>9.93</td>\n",
       "      <td>1</td>\n",
       "    </tr>\n",
       "    <tr>\n",
       "      <td>11.867023</td>\n",
       "      <td>59</td>\n",
       "      <td>40.73240661621094</td>\n",
       "      <td>-73.98705291748047</td>\n",
       "      <td>0.5</td>\n",
       "      <td>17.5</td>\n",
       "      <td>0</td>\n",
       "      <td>1</td>\n",
       "      <td>1</td>\n",
       "      <td>40.7047004699707</td>\n",
       "      <td>-74.01502990722656</td>\n",
       "      <td>1</td>\n",
       "      <td>4.67</td>\n",
       "      <td>1</td>\n",
       "    </tr>\n",
       "  </tbody>\n",
       "</table>"
      ],
      "text/plain": [
       "<IPython.core.display.HTML object>"
      ]
     },
     "metadata": {},
     "output_type": "display_data"
    }
   ],
   "source": [
    "%%ml predict\n",
    "model: ./taxitip/train/model/\n",
    "data:\n",
    "  - 33.0,1,59,0,40.75135040283203,-73.9943618774414,40.66524887084961,-73.95893096923828,1,8.05,1,0.5,1\n",
    "  - 8.5,1,59,0,40.740299224853516,-73.9857177734375,40.76605987548828,-73.96961212158203,1,2.1,1,0.5,1\n",
    "  - 26.0,1,59,0,40.79415512084961,-73.96676635742188,40.73012161254883,-73.99850463867188,1,6.9,1,0.5,1\n",
    "  - 32.5,1,59,0,40.76390075683594,-73.98169708251953,40.67359924316406,-73.95841979980469,1,9.93,1,0.5,1\n",
    "  - 17.5,1,59,0,40.7047004699707,-74.01502990722656,40.73240661621094,-73.98705291748047,1,4.67,1,0.5,1"
   ]
  },
  {
   "cell_type": "markdown",
   "metadata": {},
   "source": [
    "It seems that, while the model does very well overall when evaluated by the 90 Percentile Absolute Error, it may not do as well on individual observations. It is possible that this has to do with the extremely right-skewed distribution we originally saw during the data exploration we did using `pandas`. However, while these predicted tip amounts are larger than the real values they are still relatively realistic values for someone to tip a cab driver."
   ]
  },
  {
   "cell_type": "markdown",
   "metadata": {},
   "source": [
    "One factor we were interested in was how different amount of passengers would tip their drivers. As one way to look at this, we used manipulated the passenger count while predicting with our model. We used the model to predict the tip amount for a hypothetical trip where all values were set to their measures of central tendency (either median or mean) except for passenger count."
   ]
  },
  {
   "cell_type": "code",
   "execution_count": 170,
   "metadata": {},
   "outputs": [
    {
     "name": "stdout",
     "output_type": "stream",
     "text": [
      "12.125102840571088\n",
      "4.0\n",
      "91.0\n",
      "14.0\n",
      "40.7527370453\n",
      "-73.9820556641\n",
      "40.7528972626\n",
      "-73.9800720215\n",
      "1.0\n",
      "0.33459287626412854\n"
     ]
    },
    {
     "data": {
      "text/plain": [
       "1.0"
      ]
     },
     "execution_count": 170,
     "metadata": {},
     "output_type": "execute_result"
    }
   ],
   "source": [
    "print(df.fare_amount.mean())\n",
    "print(df.weekday.median())\n",
    "print(df.day.median())\n",
    "print(df.hour.median())\n",
    "print(df.pickup_latitude.median())\n",
    "print(df.pickup_longitude.median())\n",
    "print(df.dropoff_latitude.median())\n",
    "print(df.dropoff_longitude.median())\n",
    "print(df.rate_code.median())\n",
    "print(df.extra.mean())"
   ]
  },
  {
   "cell_type": "code",
   "execution_count": 177,
   "metadata": {},
   "outputs": [
    {
     "data": {
      "text/html": [
       "<table border=\"1\" class=\"dataframe\">\n",
       "  <thead>\n",
       "    <tr style=\"text-align: right;\">\n",
       "      <th>predicted</th>\n",
       "      <th>day</th>\n",
       "      <th>dropoff_latitude</th>\n",
       "      <th>dropoff_longitude</th>\n",
       "      <th>extra</th>\n",
       "      <th>fare_amount</th>\n",
       "      <th>hour</th>\n",
       "      <th>passenger_count</th>\n",
       "      <th>payment_type</th>\n",
       "      <th>pickup_latitude</th>\n",
       "      <th>pickup_longitude</th>\n",
       "      <th>rate_code</th>\n",
       "      <th>trip_distance</th>\n",
       "      <th>weekday</th>\n",
       "    </tr>\n",
       "  </thead>\n",
       "  <tbody>\n",
       "    <tr>\n",
       "      <td>11.460565</td>\n",
       "      <td>91</td>\n",
       "      <td>40.75</td>\n",
       "      <td>-73.98</td>\n",
       "      <td>0.3</td>\n",
       "      <td>12</td>\n",
       "      <td>14</td>\n",
       "      <td>1</td>\n",
       "      <td>1</td>\n",
       "      <td>40.75</td>\n",
       "      <td>-73.98</td>\n",
       "      <td>1</td>\n",
       "      <td>2.7</td>\n",
       "      <td>4</td>\n",
       "    </tr>\n",
       "    <tr>\n",
       "      <td>13.527218</td>\n",
       "      <td>91</td>\n",
       "      <td>40.75</td>\n",
       "      <td>-73.98</td>\n",
       "      <td>0.3</td>\n",
       "      <td>12</td>\n",
       "      <td>14</td>\n",
       "      <td>2</td>\n",
       "      <td>1</td>\n",
       "      <td>40.75</td>\n",
       "      <td>-73.98</td>\n",
       "      <td>1</td>\n",
       "      <td>2.7</td>\n",
       "      <td>4</td>\n",
       "    </tr>\n",
       "    <tr>\n",
       "      <td>16.454340</td>\n",
       "      <td>91</td>\n",
       "      <td>40.75</td>\n",
       "      <td>-73.98</td>\n",
       "      <td>0.3</td>\n",
       "      <td>12</td>\n",
       "      <td>14</td>\n",
       "      <td>3</td>\n",
       "      <td>1</td>\n",
       "      <td>40.75</td>\n",
       "      <td>-73.98</td>\n",
       "      <td>1</td>\n",
       "      <td>2.7</td>\n",
       "      <td>4</td>\n",
       "    </tr>\n",
       "    <tr>\n",
       "      <td>19.388260</td>\n",
       "      <td>91</td>\n",
       "      <td>40.75</td>\n",
       "      <td>-73.98</td>\n",
       "      <td>0.3</td>\n",
       "      <td>12</td>\n",
       "      <td>14</td>\n",
       "      <td>4</td>\n",
       "      <td>1</td>\n",
       "      <td>40.75</td>\n",
       "      <td>-73.98</td>\n",
       "      <td>1</td>\n",
       "      <td>2.7</td>\n",
       "      <td>4</td>\n",
       "    </tr>\n",
       "    <tr>\n",
       "      <td>22.392479</td>\n",
       "      <td>91</td>\n",
       "      <td>40.75</td>\n",
       "      <td>-73.98</td>\n",
       "      <td>0.3</td>\n",
       "      <td>12</td>\n",
       "      <td>14</td>\n",
       "      <td>5</td>\n",
       "      <td>1</td>\n",
       "      <td>40.75</td>\n",
       "      <td>-73.98</td>\n",
       "      <td>1</td>\n",
       "      <td>2.7</td>\n",
       "      <td>4</td>\n",
       "    </tr>\n",
       "  </tbody>\n",
       "</table>"
      ],
      "text/plain": [
       "<IPython.core.display.HTML object>"
      ]
     },
     "metadata": {},
     "output_type": "display_data"
    }
   ],
   "source": [
    "%%ml predict\n",
    "model: ./taxitip/train/model/\n",
    "data:\n",
    "  - 12, 4, 91, 14, 40.75, -73.98, 40.75, -73.98, 1, 2.7, 1, 0.3, 1\n",
    "  - 12, 4, 91, 14, 40.75, -73.98, 40.75, -73.98, 2, 2.7, 1, 0.3, 1\n",
    "  - 12, 4, 91, 14, 40.75, -73.98, 40.75, -73.98, 3, 2.7, 1, 0.3, 1\n",
    "  - 12, 4, 91, 14, 40.75, -73.98, 40.75, -73.98, 4, 2.7, 1, 0.3, 1\n",
    "  - 12, 4, 91, 14, 40.75, -73.98, 40.75, -73.98, 5, 2.7, 1, 0.3, 1"
   ]
  },
  {
   "cell_type": "code",
   "execution_count": 173,
   "metadata": {},
   "outputs": [
    {
     "data": {
      "text/html": [
       "<table border=\"1\" class=\"dataframe\">\n",
       "  <thead>\n",
       "    <tr style=\"text-align: right;\">\n",
       "      <th>predicted</th>\n",
       "      <th>day</th>\n",
       "      <th>dropoff_latitude</th>\n",
       "      <th>dropoff_longitude</th>\n",
       "      <th>extra</th>\n",
       "      <th>fare_amount</th>\n",
       "      <th>hour</th>\n",
       "      <th>passenger_count</th>\n",
       "      <th>payment_type</th>\n",
       "      <th>pickup_latitude</th>\n",
       "      <th>pickup_longitude</th>\n",
       "      <th>rate_code</th>\n",
       "      <th>trip_distance</th>\n",
       "      <th>weekday</th>\n",
       "    </tr>\n",
       "  </thead>\n",
       "  <tbody>\n",
       "    <tr>\n",
       "      <td>11.442221</td>\n",
       "      <td>91</td>\n",
       "      <td>40.75</td>\n",
       "      <td>-73.98</td>\n",
       "      <td>0.25</td>\n",
       "      <td>12</td>\n",
       "      <td>14</td>\n",
       "      <td>1</td>\n",
       "      <td>1</td>\n",
       "      <td>40.75</td>\n",
       "      <td>-73.98</td>\n",
       "      <td>1</td>\n",
       "      <td>2.7</td>\n",
       "      <td>4</td>\n",
       "    </tr>\n",
       "    <tr>\n",
       "      <td>11.533942</td>\n",
       "      <td>91</td>\n",
       "      <td>40.75</td>\n",
       "      <td>-73.98</td>\n",
       "      <td>0.5</td>\n",
       "      <td>12</td>\n",
       "      <td>14</td>\n",
       "      <td>1</td>\n",
       "      <td>1</td>\n",
       "      <td>40.75</td>\n",
       "      <td>-73.98</td>\n",
       "      <td>1</td>\n",
       "      <td>2.7</td>\n",
       "      <td>4</td>\n",
       "    </tr>\n",
       "    <tr>\n",
       "      <td>11.717923</td>\n",
       "      <td>91</td>\n",
       "      <td>40.75</td>\n",
       "      <td>-73.98</td>\n",
       "      <td>1</td>\n",
       "      <td>12</td>\n",
       "      <td>14</td>\n",
       "      <td>1</td>\n",
       "      <td>1</td>\n",
       "      <td>40.75</td>\n",
       "      <td>-73.98</td>\n",
       "      <td>1</td>\n",
       "      <td>2.7</td>\n",
       "      <td>4</td>\n",
       "    </tr>\n",
       "    <tr>\n",
       "      <td>12.522014</td>\n",
       "      <td>91</td>\n",
       "      <td>40.75</td>\n",
       "      <td>-73.98</td>\n",
       "      <td>3</td>\n",
       "      <td>12</td>\n",
       "      <td>14</td>\n",
       "      <td>1</td>\n",
       "      <td>1</td>\n",
       "      <td>40.75</td>\n",
       "      <td>-73.98</td>\n",
       "      <td>1</td>\n",
       "      <td>2.7</td>\n",
       "      <td>4</td>\n",
       "    </tr>\n",
       "    <tr>\n",
       "      <td>13.326104</td>\n",
       "      <td>91</td>\n",
       "      <td>40.75</td>\n",
       "      <td>-73.98</td>\n",
       "      <td>5</td>\n",
       "      <td>12</td>\n",
       "      <td>14</td>\n",
       "      <td>1</td>\n",
       "      <td>1</td>\n",
       "      <td>40.75</td>\n",
       "      <td>-73.98</td>\n",
       "      <td>1</td>\n",
       "      <td>2.7</td>\n",
       "      <td>4</td>\n",
       "    </tr>\n",
       "  </tbody>\n",
       "</table>"
      ],
      "text/plain": [
       "<IPython.core.display.HTML object>"
      ]
     },
     "metadata": {},
     "output_type": "display_data"
    }
   ],
   "source": [
    "%%ml predict\n",
    "model: ./taxitip/train/model/\n",
    "data:\n",
    "  - 12, 4, 91, 14, 40.75, -73.98, 40.75, -73.98, 1, 2.7, 1, 0.25, 1\n",
    "  - 12, 4, 91, 14, 40.75, -73.98, 40.75, -73.98, 1, 2.7, 1, 0.5, 1\n",
    "  - 12, 4, 91, 14, 40.75, -73.98, 40.75, -73.98, 1, 2.7, 1, 1, 1\n",
    "  - 12, 4, 91, 14, 40.75, -73.98, 40.75, -73.98, 1, 2.7, 1, 3, 1\n",
    "  - 12, 4, 91, 14, 40.75, -73.98, 40.75, -73.98, 1, 2.7, 1, 5, 1"
   ]
  },
  {
   "cell_type": "markdown",
   "metadata": {},
   "source": [
    "# Findings\n",
    "Of the data imputed to the model, some holds more analytic interest to parties affected by tipping. One parameter we were interested in analyzing was the passenger count. We hypothesized that passenger counts would be a significant predictor of tip amounts for two key reasons. First, we thought that when rides have more passengers the riders may split the cost. Thus, the willingness to tip should increase as no one person would have to pay the total. Secondly, tipping may be a relevant indicator of wealth, kindness, or social status, meaning paying riders might be inclined to tip more when their friends are in the car with them. In the predictions above, increasing passenger count while holding everything else constant did create an increase in the predicted tip amount. \n",
    "\n",
    "Trip distance was a second consideration for effects on tipping. Insofar as higher trip distances imply higher fares, and riders often tip as a percentage of the fare, we might expect higher trip distances to predict higher tip amounts. Conversely, by implying higher fares, longer trips may reduce income available for tipping, leading to lower tips. Independent of the relationship to fares, longer trips may increase sentiment among riders that their drivers deserve more of a tip, as riders may place value on work completed by the driver. Batch predictions holding all modeled factors besides trip length constant indicate linearly positive effect on tip amounts in expectation."
   ]
  },
  {
   "cell_type": "markdown",
   "metadata": {},
   "source": [
    "# Limitation\n",
    "\n",
    "One limitation of the model is that we had many conditions in our original query in order for the data to be valid. We only used observations that had valid location data and were under the standard rate code. It is possible that some of the observations that had null location data were valid taxi trips and the location data was just encoded erroneously. Furthermore, longitude and latitude are not the most complete representations of location. Particularly in New York City, two areas in close physical proximity may vary wildly in their demographics. If the dataset reliably included more specific information about what locations the taxi started and ended at, it is possible we could better predict tipping behavior. Moreover, since the dataset only included credit card tips we set the payment type to credit card payment. This model cannot say anything about the tip paying behavior for those who paying cash. Finally, there are many qualitative variables not included in the dataset that could affect tipping. People often tip based on quality of service but in this model we have no way to account for factors like the cleanliness of the cab or the personality or the driver."
   ]
  },
  {
   "cell_type": "markdown",
   "metadata": {},
   "source": [
    "# Conclusion\n",
    "\n",
    "While this model has limitations, it did confirm many of our intuitions from the original data. The amount that passenger in a New York Cit taxi will tip their driver can be predicted to some extent by information about that ride. However, since tipping practices are based on idiosyncratic and subjective factors, it is difficult to fully predict what a cab driver will be tipped on a given ride."
   ]
  }
 ],
 "metadata": {
  "kernelspec": {
   "display_name": "Python 3",
   "language": "python",
   "name": "python3"
  },
  "language_info": {
   "codemirror_mode": {
    "name": "ipython",
    "version": 3
   },
   "file_extension": ".py",
   "mimetype": "text/x-python",
   "name": "python",
   "nbconvert_exporter": "python",
   "pygments_lexer": "ipython3",
   "version": "3.8.2"
  },
  "toc": {
   "base_numbering": 1,
   "nav_menu": {},
   "number_sections": true,
   "sideBar": true,
   "skip_h1_title": false,
   "title_cell": "Table of Contents",
   "title_sidebar": "Contents",
   "toc_cell": false,
   "toc_position": {},
   "toc_section_display": true,
   "toc_window_display": false
  },
  "varInspector": {
   "cols": {
    "lenName": 16,
    "lenType": 16,
    "lenVar": 40
   },
   "kernels_config": {
    "python": {
     "delete_cmd_postfix": "",
     "delete_cmd_prefix": "del ",
     "library": "var_list.py",
     "varRefreshCmd": "print(var_dic_list())"
    },
    "r": {
     "delete_cmd_postfix": ") ",
     "delete_cmd_prefix": "rm(",
     "library": "var_list.r",
     "varRefreshCmd": "cat(var_dic_list()) "
    }
   },
   "types_to_exclude": [
    "module",
    "function",
    "builtin_function_or_method",
    "instance",
    "_Feature"
   ],
   "window_display": false
  }
 },
 "nbformat": 4,
 "nbformat_minor": 2
}
